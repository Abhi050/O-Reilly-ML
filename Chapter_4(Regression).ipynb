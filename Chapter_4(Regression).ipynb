{
  "nbformat": 4,
  "nbformat_minor": 0,
  "metadata": {
    "colab": {
      "name": "Chapter-4(Regression).ipynb",
      "version": "0.3.2",
      "provenance": [],
      "include_colab_link": true
    },
    "kernelspec": {
      "name": "python3",
      "display_name": "Python 3"
    }
  },
  "cells": [
    {
      "cell_type": "markdown",
      "metadata": {
        "id": "view-in-github",
        "colab_type": "text"
      },
      "source": [
        "<a href=\"https://colab.research.google.com/github/Abhi050/O-Reilly-ML/blob/master/Chapter_4(Regression).ipynb\" target=\"_parent\"><img src=\"https://colab.research.google.com/assets/colab-badge.svg\" alt=\"Open In Colab\"/></a>"
      ]
    },
    {
      "cell_type": "code",
      "metadata": {
        "id": "7ozQNdfdcezG",
        "colab_type": "code",
        "colab": {}
      },
      "source": [
        "import pandas as pd\n",
        "import numpy as np\n",
        "import matplotlib.pyplot as plt"
      ],
      "execution_count": 0,
      "outputs": []
    },
    {
      "cell_type": "code",
      "metadata": {
        "id": "WC2qoYadfw5z",
        "colab_type": "code",
        "colab": {
          "base_uri": "https://localhost:8080/",
          "height": 1025
        },
        "outputId": "f7c30e77-6f55-43bc-847b-dd3b588dda59"
      },
      "source": [
        "#normal equation\n",
        "x=2*np.random.rand(20,1)\n",
        "y=4+3*x+np.random.randn(20,1)\n",
        "plt.plot(x,y,\"b.\")\n",
        "plt.show()\n",
        "\n",
        "print(x)\n",
        "print(\"\\n\\n\")\n",
        "new_x=np.c_[np.ones((20,1)),x]\n",
        "argu=np.linalg.inv(new_x.T.dot(new_x)).dot(new_x.T).dot(y)\n",
        "print(argu)\n",
        "print(\"\\n\\n\")\n",
        "\n",
        "#in eqn y=A0 +A1x + ----    argu will give values of A0, A1,-----\n",
        "\n",
        "#Predict\n",
        "pred_x= np.array([[0],[2]])\n",
        "new_pred_x= np.c_[np.ones((2,1)),pred_x]\n",
        "pred_y=new_pred_x.dot(argu)\n",
        "print(pred_y)\n",
        "\n",
        "plt.plot(x,y,\"b.\")\n",
        "plt.plot(pred_x,pred_y,\"r-\")\n",
        "plt.show()"
      ],
      "execution_count": 8,
      "outputs": [
        {
          "output_type": "display_data",
          "data": {
            "image/png": "[encoded data removed]",
            "text/plain": [
              "<Figure size 432x288 with 1 Axes>"
            ]
          },
          "metadata": {
            "tags": []
          }
        },
        {
          "output_type": "stream",
          "text": [
            "[[0.76161229]\n",
            " [0.42889537]\n",
            " [1.01260509]\n",
            " [0.91430308]\n",
            " [0.3204581 ]\n",
            " [0.47411547]\n",
            " [0.59018759]\n",
            " [1.46898056]\n",
            " [1.07375578]\n",
            " [0.16690536]\n",
            " [0.97165041]\n",
            " [0.59286287]\n",
            " [1.96034052]\n",
            " [1.17317105]\n",
            " [1.66894177]\n",
            " [1.51004347]\n",
            " [0.80459078]\n",
            " [1.46133816]\n",
            " [1.13378251]\n",
            " [1.58049887]]\n",
            "\n",
            "\n",
            "\n",
            "[[4.23281061]\n",
            " [3.05230303]]\n",
            "\n",
            "\n",
            "\n",
            "[[ 4.23281061]\n",
            " [10.33741667]]\n"
          ],
          "name": "stdout"
        },
        {
          "output_type": "display_data",
          "data": {
            "image/png": "[encoded data removed]",
            "text/plain": [
              "<Figure size 432x288 with 1 Axes>"
            ]
          },
          "metadata": {
            "tags": []
          }
        }
      ]
    },
    {
      "cell_type": "code",
      "metadata": {
        "id": "XFeaexwJvIy9",
        "colab_type": "code",
        "colab": {}
      },
      "source": [
        ""
      ],
      "execution_count": 0,
      "outputs": []
    }
  ]
}