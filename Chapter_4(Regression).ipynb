{
  "nbformat": 4,
  "nbformat_minor": 0,
  "metadata": {
    "colab": {
      "name": "Chapter-4(Regression).ipynb",
      "version": "0.3.2",
      "provenance": [],
      "include_colab_link": true
    },
    "kernelspec": {
      "name": "python3",
      "display_name": "Python 3"
    }
  },
  "cells": [
    {
      "cell_type": "markdown",
      "metadata": {
        "id": "view-in-github",
        "colab_type": "text"
      },
      "source": [
        "<a href=\"https://colab.research.google.com/github/Abhi050/O-Reilly-ML/blob/master/Chapter_4(Regression).ipynb\" target=\"_parent\"><img src=\"https://colab.research.google.com/assets/colab-badge.svg\" alt=\"Open In Colab\"/></a>"
      ]
    },
    {
      "cell_type": "code",
      "metadata": {
        "id": "7ozQNdfdcezG",
        "colab_type": "code",
        "colab": {}
      },
      "source": [
        "import pandas as pd\n",
        "import numpy as np\n",
        "import matplotlib.pyplot as plt"
      ],
      "execution_count": 0,
      "outputs": []
    },
    {
      "cell_type": "code",
      "metadata": {
        "id": "WC2qoYadfw5z",
        "colab_type": "code",
        "colab": {
          "base_uri": "https://localhost:8080/",
          "height": 1025
        },
        "outputId": "f7c30e77-6f55-43bc-847b-dd3b588dda59"
      },
      "source": [
        "#normal equation\n",
        "x=2*np.random.rand(20,1)\n",
        "y=4+3*x+np.random.randn(20,1)\n",
        "plt.plot(x,y,\"b.\")\n",
        "plt.show()\n",
        "\n",
        "print(x)\n",
        "print(\"\\n\\n\")\n",
        "new_x=np.c_[np.ones((20,1)),x]\n",
        "argu=np.linalg.inv(new_x.T.dot(new_x)).dot(new_x.T).dot(y)\n",
        "print(argu)\n",
        "print(\"\\n\\n\")\n",
        "\n",
        "#in eqn y=A0 +A1x + ----    argu will give values of A0, A1,-----\n",
        "\n",
        "#Predict\n",
        "pred_x= np.array([[0],[2]])\n",
        "new_pred_x= np.c_[np.ones((2,1)),pred_x]\n",
        "pred_y=new_pred_x.dot(argu)\n",
        "print(pred_y)\n",
        "\n",
        "plt.plot(x,y,\"b.\")\n",
        "plt.plot(pred_x,pred_y,\"r-\")\n",
        "plt.show()"
      ],
      "execution_count": 8,
      "outputs": [
        {
          "output_type": "display_data",
          "data": {
            "image/png": "[encoded data removed]",
            "text/plain": [
              "<Figure size 432x288 with 1 Axes>"
            ]
          },
          "metadata": {
            "tags": []
          }
        },
        {
          "output_type": "stream",
          "text": [
            "[[0.76161229]\n",
            " [0.42889537]\n",
            " [1.01260509]\n",
            " [0.91430308]\n",
            " [0.3204581 ]\n",
            " [0.47411547]\n",
            " [0.59018759]\n",
            " [1.46898056]\n",
            " [1.07375578]\n",
            " [0.16690536]\n",
            " [0.97165041]\n",
            " [0.59286287]\n",
            " [1.96034052]\n",
            " [1.17317105]\n",
            " [1.66894177]\n",
            " [1.51004347]\n",
            " [0.80459078]\n",
            " [1.46133816]\n",
            " [1.13378251]\n",
            " [1.58049887]]\n",
            "\n",
            "\n",
            "\n",
            "[[4.23281061]\n",
            " [3.05230303]]\n",
            "\n",
            "\n",
            "\n",
            "[[ 4.23281061]\n",
            " [10.33741667]]\n"
          ],
          "name": "stdout"
        },
        {
          "output_type": "display_data",
          "data": {
            "image/png": "[encoded data removed]",
            "text/plain": [
              "<Figure size 432x288 with 1 Axes>"
            ]
          },
          "metadata": {
            "tags": []
          }
        }
      ]
    },
    {
      "cell_type": "code",
      "metadata": {
        "id": "XFeaexwJvIy9",
        "colab_type": "code",
        "colab": {
          "base_uri": "https://localhost:8080/",
          "height": 34
        },
        "outputId": "1edcc4f2-8043-4faa-844e-570249ea1872"
      },
      "source": [
        "\"\"\"\n",
        "Batch GD\n",
        "Random GD(schotic)\n",
        "Mini batch GD\n",
        "\"\"\""
      ],
      "execution_count": 9,
      "outputs": [
        {
          "output_type": "execute_result",
          "data": {
            "text/plain": [
              "'\\nBatch GD\\nRandom GD(schotic)\\nMini batch GD\\n'"
            ]
          },
          "metadata": {
            "tags": []
          },
          "execution_count": 9
        }
      ]
    },
    {
      "cell_type": "code",
      "metadata": {
        "id": "RiP1_7Lr88j7",
        "colab_type": "code",
        "colab": {
          "base_uri": "https://localhost:8080/",
          "height": 286
        },
        "outputId": "854a1e3a-3d23-4203-bbaf-13dcf42f34b3"
      },
      "source": [
        "#Polynomial regression\n",
        "m=100\n",
        "x=6*np.random.rand(m,1)-3\n",
        "y=0.5*(x**2) +x+2 +np.random.rand(m,1)\n",
        "from sklearn.preprocessing import PolynomialFeatures\n",
        "pol = PolynomialFeatures(degree=2, include_bias=False)\n",
        "poly_x= pol.fit_transform(x)\n",
        "\n",
        "from sklearn.linear_model import LinearRegression\n",
        "lin =LinearRegression()\n",
        "lin.fit(poly_x,y)\n",
        "\n",
        "plt.plot(x,y,\"b.\")\n",
        "plt.plot(lin.intercept_,lin.coef_,\"r-\")\n",
        "plt.plot()\n"
      ],
      "execution_count": 13,
      "outputs": [
        {
          "output_type": "execute_result",
          "data": {
            "text/plain": [
              "[]"
            ]
          },
          "metadata": {
            "tags": []
          },
          "execution_count": 13
        },
        {
          "output_type": "display_data",
          "data": {
            "image/png": "[encoded data removed]",
            "text/plain": [
              "<Figure size 432x288 with 1 Axes>"
            ]
          },
          "metadata": {
            "tags": []
          }
        }
      ]
    },
    {
      "cell_type": "code",
      "metadata": {
        "id": "yLXxcOJf-RM0",
        "colab_type": "code",
        "colab": {
          "base_uri": "https://localhost:8080/",
          "height": 34
        },
        "outputId": "824c9bc4-a62e-4fc3-f164-8501d8b883fe"
      },
      "source": [
        "#Ridge/L2 regularization\n",
        "from sklearn.linear_model import Ridge\n",
        "r = Ridge(alpha=1,solver=\"cholesky\")#value of alpha will effect the answer and solver meann the method of matrix factorization used, in this case cholesky\n",
        "r.fit(x,y)\n",
        "r.predict([[1.5]])\n",
        "\n",
        "#using SGD(stochastic/random)\n",
        "from sklearn.linear_model import SGDRegressor\n",
        "s=SGDRegressor(penalty=\"l2\")\n",
        "s.fit(x,y.ravel())\n",
        "s.predict([[1.5]])"
      ],
      "execution_count": 16,
      "outputs": [
        {
          "output_type": "execute_result",
          "data": {
            "text/plain": [
              "array([5.61717341])"
            ]
          },
          "metadata": {
            "tags": []
          },
          "execution_count": 16
        }
      ]
    },
    {
      "cell_type": "code",
      "metadata": {
        "id": "wSijENhpHYZG",
        "colab_type": "code",
        "colab": {
          "base_uri": "https://localhost:8080/",
          "height": 34
        },
        "outputId": "ccd62874-7a75-4605-85bb-a135ccac5b3b"
      },
      "source": [
        "#Lasso/L1\n",
        "from sklearn.linear_model import Lasso\n",
        "l_reg=Lasso(alpha=0.1)\n",
        "l_reg.fit(x,y)\n",
        "l_reg.predict([[1.5]])"
      ],
      "execution_count": 17,
      "outputs": [
        {
          "output_type": "execute_result",
          "data": {
            "text/plain": [
              "array([5.59320873])"
            ]
          },
          "metadata": {
            "tags": []
          },
          "execution_count": 17
        }
      ]
    },
    {
      "cell_type": "code",
      "metadata": {
        "id": "8cKriXj3JwW8",
        "colab_type": "code",
        "colab": {
          "base_uri": "https://localhost:8080/",
          "height": 34
        },
        "outputId": "a4ab90a2-0aa1-4931-d216-613a3f3f2a97"
      },
      "source": [
        "#Elastic Net\n",
        "from sklearn.linear_model import ElasticNet\n",
        "e=ElasticNet(alpha=0.1,l1_ratio=1)#l1_ratio=1 == Lasso, otherwise if 0 == Ridge\n",
        "e.fit(x,y)\n",
        "e.predict([[1.5]])"
      ],
      "execution_count": 25,
      "outputs": [
        {
          "output_type": "execute_result",
          "data": {
            "text/plain": [
              "array([5.59320873])"
            ]
          },
          "metadata": {
            "tags": []
          },
          "execution_count": 25
        }
      ]
    },
    {
      "cell_type": "code",
      "metadata": {
        "id": "yDIVYcxDLRuM",
        "colab_type": "code",
        "colab": {}
      },
      "source": [
        ""
      ],
      "execution_count": 0,
      "outputs": []
    }
  ]
}