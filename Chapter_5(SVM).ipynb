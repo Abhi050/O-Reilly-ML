{
  "nbformat": 4,
  "nbformat_minor": 0,
  "metadata": {
    "colab": {
      "name": "Chapter-5(SVM).ipynb",
      "version": "0.3.2",
      "provenance": [],
      "include_colab_link": true
    },
    "kernelspec": {
      "name": "python3",
      "display_name": "Python 3"
    }
  },
  "cells": [
    {
      "cell_type": "markdown",
      "metadata": {
        "id": "view-in-github",
        "colab_type": "text"
      },
      "source": [
        "<a href=\"https://colab.research.google.com/github/Abhi050/O-Reilly-ML/blob/master/Chapter_5(SVM).ipynb\" target=\"_parent\"><img src=\"https://colab.research.google.com/assets/colab-badge.svg\" alt=\"Open In Colab\"/></a>"
      ]
    },
    {
      "cell_type": "code",
      "metadata": {
        "id": "96P-Eb9QJxNp",
        "colab_type": "code",
        "colab": {}
      },
      "source": [
        "\n",
        "import pandas as pd\n",
        "import numpy as np\n",
        "import matplotlib.pyplot as plt\n",
        "import sklearn as sk\n",
        "from sklearn.pipeline import PipeLine\n",
        "\n",
        "df = pd.read_csv(\"E:\\Extra\\california-housing-prices\\housing.csv\")\n",
        "print(df.head())\n",
        "print(df.describe())\n",
        "\n",
        "encoder=sk.preprocessing.LabelEncoder()\n",
        "encoded=encoder.fit_transform(df[\"ocean_proximity\"])\n",
        "df[\"ocean_proximity\"]=encoded\n",
        "\n",
        "y=df[\"ocean_proximity\"]\n",
        "x=df.iloc[:,[-3,-2]].values\n",
        "\n",
        "\n",
        "mai = Pipeline(((\"scaler\",sk.preprocessing.StandardScaler()),(\"svm_clf\",sk.svm.SVC(kernel=\"poly\",c=10,degree=3,coef0=1))))\n",
        "mai.fit(x,y)\n",
        "\n",
        "\"\"\"def plot_predictions(clf, axes):\n",
        "    x0s = np.linspace(axes[0], axes[1], 100)\n",
        "    x1s = np.linspace(axes[2], axes[3], 100)\n",
        "    x0, x1 = np.meshgrid(x0s, x1s)\n",
        "    X = np.c_[x0.ravel(), x1.ravel()]\n",
        "    y_pred = clf.predict(X).reshape(x0.shape)\n",
        "    y_decision = clf.decision_function(X).reshape(x0.shape)\n",
        "    plt.contourf(x0, x1, y_pred, cmap=plt.cm.brg, alpha=0.2)\n",
        "    plt.contourf(x0, x1, y_decision, cmap=plt.cm.brg, alpha=0.1)\"\"\"\n",
        "\n",
        "def plot_dataset(X, y, axes):\n",
        "    plt.plot(X[:, 0][y==0], X[:, 1][y==0], \"bs\")\n",
        "    plt.plot(X[:, 0][y==1], X[:, 1][y==1], \"g^\")\n",
        "    plt.axis(axes)\n",
        "    plt.grid(True, which='both')\n",
        "    plt.xlabel(r\"$x_1$\", fontsize=20)\n",
        "    plt.ylabel(r\"$x_2$\", fontsize=20, rotation=0)\n",
        "\n",
        "plot_predictions(mai, [-1.5, 2.5, -1, 1.5])\n",
        "plot_dataset(x, y, [-1.5, 2.5, -1, 1.5])\n",
        "\n",
        "asave_fig(\"moons_polynomial_svc_plot\")\n",
        "plt.show()\n",
        "\n",
        "\n",
        "\n",
        "\n",
        "\n"
      ],
      "execution_count": 0,
      "outputs": []
    }
  ]
}